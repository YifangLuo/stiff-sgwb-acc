{
 "cells": [
  {
   "cell_type": "code",
   "execution_count": 1,
   "id": "a858b25314367593",
   "metadata": {
    "collapsed": true,
    "ExecuteTime": {
     "end_time": "2025-01-07T09:58:08.350678900Z",
     "start_time": "2025-01-07T09:58:04.744421100Z"
    }
   },
   "outputs": [
    {
     "name": "stdout",
     "output_type": "stream",
     "text": [
      "[0.000e+00 1.000e-02 2.000e-02 ... 6.738e+01 6.739e+01 6.740e+01]\n",
      "[1.         1.         1.         ... 0.32904425 0.32245421 0.31593402]\n"
     ]
    }
   ],
   "source": [
    "import os\n",
    "os.environ['KMP_DUPLICATE_LIB_OK']= 'TRUE'\n",
    "import numpy as np\n",
    "from scipy.integrate import solve_ivp\n",
    "import math\n",
    "Nv = np.load('Nv.npy')\n",
    "print(Nv)\n",
    "Sv = np.load('Sv.npy')\n",
    "print(Sv)\n",
    "from scipy import interpolate\n",
    "param = (interpolate.InterpolatedUnivariateSpline(Nv, Sv),)    \n",
    "\n",
    "def solve(N_span,ini_state):\n",
    "    def tensor(t, state, spline):\n",
    "        z, x, y = state\n",
    "        sigma = float(spline(t))\n",
    "        dz = 1.5 * sigma - 1\n",
    "        dx = -3 * x + 1.5 * sigma * x - math.exp(z) * y\n",
    "        dy = -y + 1.5 * sigma * y + math.exp(z) * x\n",
    "        return [dz, dx, dy]\n",
    "    def subhorizon(N, state, spline):\n",
    "        return state[0]-5\n",
    "    subhorizon.terminal = True; subhorizon.direction = 1\n",
    "    def jacobian(N, state, spline):\n",
    "        z, x, y = state\n",
    "        sigma = float(spline(N))\n",
    "        jac = np.array(\n",
    "            (\n",
    "                (0, 0, 0),\n",
    "                (-math.exp(z)*y, -3+1.5*sigma, -math.exp(z)),\n",
    "                (math.exp(z)*x, math.exp(z), -1+1.5*sigma),\n",
    "            ),\n",
    "            dtype = np.float64,\n",
    "        )\n",
    "        return jac\n",
    "    \n",
    "    result = solve_ivp(tensor, N_span, ini_state, \n",
    "                        method='LSODA', \n",
    "                        #t_eval=N,\n",
    "                        dense_output=True,\n",
    "                        events=[subhorizon,],\n",
    "                        args=param,\n",
    "                        rtol=1e-6, atol=[1e-10, 1e-20, 1e-20],\n",
    "                        jac=jacobian,\n",
    "                        )\n",
    "    return result.sol\n",
    "\n",
    "import json\n",
    "import torch\n",
    "from torch.utils.data import Dataset\n",
    "import numpy as np\n",
    "from sklearn.preprocessing import StandardScaler\n",
    "\n",
    "class JSONDataset(Dataset):\n",
    "    def __init__(self, batch_size=1):\n",
    "        self.batch_size = batch_size\n",
    "        with open(\"solve.ivp2.json\", 'r', encoding='utf-8') as f:\n",
    "            self.documents = json.load(f)\n",
    "        self.scaler = StandardScaler()\n",
    "     \n",
    "    def __len__(self):\n",
    "        return len(self.documents)\n",
    "\n",
    "    def __getitem__(self, idx):\n",
    "        start_idx = idx \n",
    "        end_idx = min((idx + 1), len(self.documents))\n",
    "\n",
    "        batch_documents = self.documents[start_idx:end_idx]\n",
    "\n",
    "        # 用于存储输入和输出数据\n",
    "        train_inputs = []\n",
    "        train_outputs = []\n",
    "\n",
    "        for document in batch_documents:\n",
    "            N_span_start, N_span_end = document['N_span']\n",
    "            sol = solve(document['N_span'], document['ini_state'])\n",
    "            N_effective = Nv[(Nv >= sol.t_min) & (Nv <= sol.t_max)]\n",
    "\n",
    "            for t in N_effective:\n",
    "                # 生成训练输入\n",
    "                train_inputs.append([t] + [N_span_start, N_span_end] + list(document['ini_state']))\n",
    "\n",
    "                # 计算输出\n",
    "                output = sol(t)\n",
    "                train_outputs.append(output)\n",
    "\n",
    "        # 将输入输出转换为numpy数组，再转为torch张量\n",
    "        train_inputs = np.array(train_inputs)\n",
    "        train_outputs = np.array(train_outputs)\n",
    "\n",
    "        train_outputs = self.scaler.fit_transform(train_outputs)\n",
    "\n",
    "\n",
    "        train_inputs = torch.tensor(train_inputs, dtype=torch.float32)\n",
    "        train_outputs = torch.tensor(train_outputs, dtype=torch.float32)\n",
    "\n",
    "\n",
    "\n",
    "        return train_inputs, train_outputs\n",
    "\n",
    "\n",
    "import torch\n",
    "import torch.nn as nn\n",
    "from torch.utils.data import DataLoader\n",
    "import matplotlib.pyplot as plt\n",
    "from IPython.display import clear_output\n",
    "from sklearn.preprocessing import StandardScaler\n",
    "\n",
    "# -------------------------\n",
    "# 第一步：创建数据集和 DataLoader\n",
    "# -------------------------\n",
    "# 创建 JSON 数据集\n",
    "  # 你的 JSON 文件路径\n",
    "dataset = JSONDataset()\n",
    "\n",
    "# 创建 DataLoader\n",
    "batch_size = 1\n",
    "dataloader = DataLoader(dataset, batch_size=batch_size, shuffle=True)"
   ]
  },
  {
   "cell_type": "code",
   "execution_count": 2,
   "outputs": [
    {
     "name": "stderr",
     "output_type": "stream",
     "text": [
      "Epoch 0/1:   0%|          | 2/10000 [00:00<29:44,  5.60it/s]"
     ]
    },
    {
     "name": "stdout",
     "output_type": "stream",
     "text": [
      "1\n",
      "torch.Size([1, 2382, 6])\n",
      "torch.Size([1, 2382, 3])\n",
      "1\n",
      "torch.Size([1, 1740, 6])\n",
      "torch.Size([1, 1740, 3])\n",
      "1\n",
      "torch.Size([1, 1443, 6])\n",
      "torch.Size([1, 1443, 3])\n"
     ]
    },
    {
     "name": "stderr",
     "output_type": "stream",
     "text": [
      "Epoch 0/1:   0%|          | 6/10000 [00:00<22:50,  7.29it/s]"
     ]
    },
    {
     "name": "stdout",
     "output_type": "stream",
     "text": [
      "1\n",
      "torch.Size([1, 2382, 6])\n",
      "torch.Size([1, 2382, 3])\n",
      "1\n",
      "torch.Size([1, 1092, 6])\n",
      "torch.Size([1, 1092, 3])\n",
      "1\n",
      "torch.Size([1, 774, 6])\n",
      "torch.Size([1, 774, 3])\n"
     ]
    },
    {
     "name": "stderr",
     "output_type": "stream",
     "text": [
      "Epoch 0/1:   0%|          | 8/10000 [00:01<20:17,  8.21it/s]"
     ]
    },
    {
     "name": "stdout",
     "output_type": "stream",
     "text": [
      "1\n",
      "torch.Size([1, 1358, 6])\n",
      "torch.Size([1, 1358, 3])\n",
      "1\n",
      "torch.Size([1, 1616, 6])\n",
      "torch.Size([1, 1616, 3])\n",
      "1\n"
     ]
    },
    {
     "name": "stderr",
     "output_type": "stream",
     "text": [
      "Epoch 0/1:   0%|          | 9/10000 [00:01<20:26,  8.15it/s]"
     ]
    },
    {
     "name": "stdout",
     "output_type": "stream",
     "text": [
      "torch.Size([1, 1072, 6])\n",
      "torch.Size([1, 1072, 3])\n"
     ]
    },
    {
     "name": "stderr",
     "output_type": "stream",
     "text": [
      "Epoch 0/1:   0%|          | 10/10000 [00:01<25:26,  6.54it/s]"
     ]
    },
    {
     "name": "stdout",
     "output_type": "stream",
     "text": [
      "1\n",
      "torch.Size([1, 1464, 6])\n",
      "torch.Size([1, 1464, 3])\n",
      "1\n",
      "torch.Size([1, 1768, 6])\n",
      "torch.Size([1, 1768, 3])\n"
     ]
    },
    {
     "name": "stderr",
     "output_type": "stream",
     "text": [
      "Epoch 0/1:   0%|          | 12/10000 [00:01<26:18,  6.33it/s]"
     ]
    },
    {
     "name": "stdout",
     "output_type": "stream",
     "text": [
      "1\n",
      "torch.Size([1, 2383, 6])\n",
      "torch.Size([1, 2383, 3])\n"
     ]
    },
    {
     "name": "stderr",
     "output_type": "stream",
     "text": [
      "Epoch 0/1:   0%|          | 15/10000 [00:02<23:57,  6.94it/s]"
     ]
    },
    {
     "name": "stdout",
     "output_type": "stream",
     "text": [
      "1\n",
      "torch.Size([1, 2382, 6])\n",
      "torch.Size([1, 2382, 3])\n",
      "1\n",
      "torch.Size([1, 1375, 6])\n",
      "torch.Size([1, 1375, 3])\n",
      "1\n",
      "torch.Size([1, 1443, 6])\n",
      "torch.Size([1, 1443, 3])\n"
     ]
    },
    {
     "name": "stderr",
     "output_type": "stream",
     "text": [
      "Epoch 0/1:   0%|          | 18/10000 [00:02<19:21,  8.59it/s]"
     ]
    },
    {
     "name": "stdout",
     "output_type": "stream",
     "text": [
      "1\n",
      "torch.Size([1, 1947, 6])\n",
      "torch.Size([1, 1947, 3])\n",
      "1\n",
      "torch.Size([1, 1792, 6])\n",
      "torch.Size([1, 1792, 3])\n",
      "1\n",
      "torch.Size([1, 1719, 6])\n",
      "torch.Size([1, 1719, 3])\n"
     ]
    },
    {
     "name": "stderr",
     "output_type": "stream",
     "text": [
      "Epoch 0/1:   0%|          | 19/10000 [00:02<24:50,  6.70it/s]"
     ]
    },
    {
     "name": "stdout",
     "output_type": "stream",
     "text": [
      "1\n",
      "torch.Size([1, 2383, 6])\n",
      "torch.Size([1, 2383, 3])\n",
      "1\n",
      "torch.Size([1, 1650, 6])\n",
      "torch.Size([1, 1650, 3])\n"
     ]
    },
    {
     "name": "stderr",
     "output_type": "stream",
     "text": [
      "Epoch 0/1:   0%|          | 23/10000 [00:03<22:44,  7.31it/s]"
     ]
    },
    {
     "name": "stdout",
     "output_type": "stream",
     "text": [
      "1\n",
      "torch.Size([1, 2383, 6])\n",
      "torch.Size([1, 2383, 3])\n",
      "1\n",
      "torch.Size([1, 1792, 6])\n",
      "torch.Size([1, 1792, 3])\n",
      "1\n",
      "torch.Size([1, 1633, 6])\n",
      "torch.Size([1, 1633, 3])\n"
     ]
    },
    {
     "name": "stderr",
     "output_type": "stream",
     "text": [
      "Epoch 0/1:   0%|          | 24/10000 [00:03<26:34,  6.25it/s]"
     ]
    },
    {
     "name": "stdout",
     "output_type": "stream",
     "text": [
      "1\n",
      "torch.Size([1, 2383, 6])\n",
      "torch.Size([1, 2383, 3])\n"
     ]
    },
    {
     "name": "stderr",
     "output_type": "stream",
     "text": [
      "Epoch 0/1:   0%|          | 26/10000 [00:03<28:27,  5.84it/s]"
     ]
    },
    {
     "name": "stdout",
     "output_type": "stream",
     "text": [
      "1\n",
      "torch.Size([1, 2383, 6])\n",
      "torch.Size([1, 2383, 3])\n",
      "1\n",
      "torch.Size([1, 1050, 6])\n",
      "torch.Size([1, 1050, 3])\n",
      "1\n",
      "torch.Size([1, 1467, 6])\n",
      "torch.Size([1, 1467, 3])\n"
     ]
    },
    {
     "name": "stderr",
     "output_type": "stream",
     "text": [
      "                                                             \r\n",
      "KeyboardInterrupt\n",
      "\n"
     ]
    }
   ],
   "source": [
    "import torch.nn as nn\n",
    "from tqdm import tqdm\n",
    "epochs = 1\n",
    "for epoch in range(epochs):\n",
    "    batch_bar = tqdm(dataloader, desc=f\"Epoch {epoch}/{epochs}\", leave=False)\n",
    "    for batch_inputs, batch_outputs in batch_bar:\n",
    "        print(1)\n",
    "        print(batch_inputs.shape)\n",
    "        print(batch_outputs.shape)"
   ],
   "metadata": {
    "collapsed": false,
    "ExecuteTime": {
     "end_time": "2025-01-07T09:58:20.768185300Z",
     "start_time": "2025-01-07T09:58:16.567700300Z"
    }
   },
   "id": "c2fecee461e205db"
  },
  {
   "cell_type": "code",
   "execution_count": 12,
   "outputs": [],
   "source": [
    "\n",
    "# -------------------------\n",
    "# 第二步：定义模型\n",
    "# -------------------------\n",
    "class ODE_Network(nn.Module):\n",
    "    def __init__(self):\n",
    "        super(ODE_Network, self).__init__()\n",
    "        self.fc1 = nn.Linear(6, 128)\n",
    "        self.fc21 = nn.Linear(128, 256)\n",
    "        self.fc22 = nn.Linear(256, 512)\n",
    "        self.fc23 = nn.Linear(512, 128)\n",
    "        self.fc24 = nn.Linear(128, 64)\n",
    "        self.fc3 = nn.Linear(64, 3)\n",
    "\n",
    "    def forward(self, x):\n",
    "        x = torch.relu(self.fc1(x))\n",
    "        x = torch.relu(self.fc21(x))\n",
    "        x = torch.relu(self.fc22(x))\n",
    "        x = torch.relu(self.fc23(x))\n",
    "        x = torch.relu(self.fc24(x))\n",
    "        x = self.fc3(x)\n",
    "        return x\n",
    "\n",
    "\n",
    "model = ODE_Network()\n",
    "\n",
    "# -------------------------\n",
    "# 第三步：定义损失函数和优化器\n",
    "# -------------------------\n",
    "criterion = nn.MSELoss()\n",
    "optimizer = torch.optim.Adam(model.parameters(), lr=0.0005)\n",
    "\n",
    "# -------------------------\n",
    "# 第四步：训练循环\n",
    "# -------------------------\n",
    "epochs = 100\n",
    "losses = []\n",
    "import torch.nn as nn\n",
    "from tqdm import tqdm\n",
    "for epoch in range(epochs):\n",
    "    model.train()\n",
    "    epoch_loss = 0.0\n",
    "    batch_bar = tqdm(dataloader, desc=f\"Epoch {epoch}/{epochs}\", leave=False)\n",
    "    for batch_inputs, batch_outputs in batch_bar:\n",
    "        outputs = model(batch_inputs)\n",
    "        loss = criterion(outputs, batch_outputs)\n",
    "        \n",
    "        optimizer.zero_grad()\n",
    "        loss.backward()\n",
    "        optimizer.step()\n",
    "        \n",
    "        epoch_loss += loss.item() * batch_inputs.size(0)\n",
    "        batch_bar.set_postfix(loss=loss.item())\n",
    "    \n",
    "    epoch_loss /= len(dataset)\n",
    "    losses.append(epoch_loss)\n",
    "\n",
    "torch.save(model.state_dict(), 'ode_model_multi_test.pth')\n"
   ],
   "metadata": {
    "collapsed": false,
    "ExecuteTime": {
     "end_time": "2025-01-06T15:57:56.613279400Z",
     "start_time": "2025-01-06T15:57:56.594508200Z"
    }
   },
   "id": "5ce4e36044e4ba3f"
  },
  {
   "cell_type": "code",
   "execution_count": null,
   "outputs": [],
   "source": [],
   "metadata": {
    "collapsed": false
   },
   "id": "adbbbd9bc21c213c"
  }
 ],
 "metadata": {
  "kernelspec": {
   "display_name": "Python 3",
   "language": "python",
   "name": "python3"
  },
  "language_info": {
   "codemirror_mode": {
    "name": "ipython",
    "version": 2
   },
   "file_extension": ".py",
   "mimetype": "text/x-python",
   "name": "python",
   "nbconvert_exporter": "python",
   "pygments_lexer": "ipython2",
   "version": "2.7.6"
  }
 },
 "nbformat": 4,
 "nbformat_minor": 5
}
