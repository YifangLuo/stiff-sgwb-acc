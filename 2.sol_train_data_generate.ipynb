{
 "cells": [
  {
   "cell_type": "code",
   "execution_count": 3,
   "metadata": {},
   "outputs": [
    {
     "name": "stdout",
     "output_type": "stream",
     "text": [
      "[0.000e+00 1.000e-02 2.000e-02 ... 6.738e+01 6.739e+01 6.740e+01]\n",
      "[1.         1.         1.         ... 0.32904425 0.32245421 0.31593402]\n"
     ]
    }
   ],
   "source": [
    "import numpy as np\n",
    "# np.save('Nv.npy', Nv)\n",
    "Nv = np.load('Nv.npy')\n",
    "print(Nv)\n",
    "Sv = np.load('Sv.npy')\n",
    "print(Sv)"
   ]
  },
  {
   "cell_type": "code",
   "execution_count": 6,
   "metadata": {},
   "outputs": [],
   "source": [
    "import math\n",
    "import numpy as np\n",
    "from scipy.integrate import solve_ivp\n",
    "import os\n",
    "os.environ['KMP_DUPLICATE_LIB_OK']= 'TRUE'\n",
    "from scipy import interpolate\n",
    "param = (interpolate.InterpolatedUnivariateSpline(Nv, Sv),)   \n",
    "\n",
    "def solve(N_span,ini_state):\n",
    "    def tensor(t, state, spline):\n",
    "        z, x, y = state\n",
    "        sigma = float(spline(t))\n",
    "        dz = 1.5 * sigma - 1\n",
    "        dx = -3 * x + 1.5 * sigma * x - math.exp(z) * y\n",
    "        dy = -y + 1.5 * sigma * y + math.exp(z) * x\n",
    "        return [dz, dx, dy]\n",
    "    def subhorizon(N, state, spline):\n",
    "        return state[0]-5\n",
    "    subhorizon.terminal = True; subhorizon.direction = 1\n",
    "    def jacobian(N, state, spline):\n",
    "        z, x, y = state\n",
    "        sigma = float(spline(N))\n",
    "        jac = np.array(\n",
    "            (\n",
    "                (0, 0, 0),\n",
    "                (-math.exp(z)*y, -3+1.5*sigma, -math.exp(z)),\n",
    "                (math.exp(z)*x, math.exp(z), -1+1.5*sigma),\n",
    "            ),\n",
    "            dtype = np.float64,\n",
    "        )\n",
    "        return jac\n",
    "    \n",
    "    result = solve_ivp(tensor, N_span, ini_state, \n",
    "                        method='LSODA', \n",
    "                        #t_eval=N,\n",
    "                        dense_output=True,\n",
    "                        events=[subhorizon,],\n",
    "                        args=param,\n",
    "                        rtol=1e-6, atol=[1e-10, 1e-20, 1e-20],\n",
    "                        jac=jacobian,\n",
    "                        )\n",
    "    return result.sol"
   ]
  },
  {
   "cell_type": "code",
   "execution_count": 21,
   "metadata": {},
   "outputs": [
    {
     "name": "stderr",
     "output_type": "stream",
     "text": [
      "0it [00:00, ?it/s]"
     ]
    },
    {
     "name": "stderr",
     "output_type": "stream",
     "text": [
      "10000it [24:38,  6.76it/s]\n"
     ]
    }
   ],
   "source": [
    "from bson import ObjectId\n",
    "import pymongo\n",
    "from tqdm import tqdm\n",
    "client = pymongo.MongoClient(\"mongodb://localhost:27017/\")\n",
    "db = client[\"solve\"]\n",
    "collection = db[\"ivp\"]\n",
    "\n",
    "\n",
    "for document in tqdm(collection.find({\n",
    "    'sol':{\"$exists\":False}\n",
    "})): \n",
    "    sol = solve(N_span=document['N_span'],ini_state=document['ini_state'])\n",
    "    N_effective = Nv[(Nv >= sol.t_min) & (Nv <= sol.t_max)]\n",
    "    [zf_this, xf_this, yf_this] = sol(N_effective)\n",
    "    collection.update_one(\n",
    "        {'_id': ObjectId(document['_id'])},  \n",
    "        {'$set': {\n",
    "            't_min': sol.t_min,\n",
    "            't_max': sol.t_max,\n",
    "            'zf_this': zf_this.tolist(),\n",
    "            'xf_this': xf_this.tolist(),\n",
    "            'tf_this': yf_this.tolist(),\n",
    "            }}  \n",
    "    )\n",
    "\n"
   ]
  }
 ],
 "metadata": {
  "kernelspec": {
   "display_name": "py",
   "language": "python",
   "name": "python3"
  },
  "language_info": {
   "codemirror_mode": {
    "name": "ipython",
    "version": 3
   },
   "file_extension": ".py",
   "mimetype": "text/x-python",
   "name": "python",
   "nbconvert_exporter": "python",
   "pygments_lexer": "ipython3",
   "version": "3.10.4"
  }
 },
 "nbformat": 4,
 "nbformat_minor": 2
}
